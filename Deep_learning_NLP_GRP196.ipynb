{
  "nbformat": 4,
  "nbformat_minor": 0,
  "metadata": {
    "colab": {
      "name": "NLP_GRP196.ipynb",
      "provenance": [],
      "collapsed_sections": []
    },
    "kernelspec": {
      "name": "python3",
      "display_name": "Python 3"
    },
    "language_info": {
      "name": "python"
    },
    "accelerator": "GPU"
  },
  "cells": [
    {
      "cell_type": "markdown",
      "metadata": {
        "id": "9JZDkGx9Ohua"
      },
      "source": [
        "#Question No.2. NLP Dataset: Sentiment Analysis dataset - 1.6 Million tweets.\n",
        "\n",
        "\n",
        "##### Dataset is downloaded to Drive from the link - https://www.kaggle.com/kazanova/sentiment140\n",
        "#####The column 'text' has the tweet and 'target' gives the sentiment of the text.\n",
        "\n",
        "\n",
        "###DL Group 196:\n",
        "###S Alagu Thiruvadi Nainar -- 2019AH04028\n",
        "###Ashutosh More -- 2019AH04080\n",
        "###Avinash Menon -- 2019AH04057"
      ]
    },
    {
      "cell_type": "code",
      "metadata": {
        "id": "jbvweKZiEoNU"
      },
      "source": [
        "import os\n",
        "import numpy as np\n",
        "import pandas as pd\n",
        "\n",
        "import tensorflow as tf\n",
        "import tensorflow_hub as hub\n",
        "import tensorflow_datasets as tfds\n",
        "from tensorflow import keras\n",
        "from sklearn.model_selection import train_test_split\n",
        "from sklearn import preprocessing\n",
        "from sklearn.metrics import classification_report\n",
        "from keras import optimizers\n",
        "import matplotlib.pyplot as plt\n",
        "%matplotlib inline"
      ],
      "execution_count": null,
      "outputs": []
    },
    {
      "cell_type": "code",
      "metadata": {
        "colab": {
          "base_uri": "https://localhost:8080/",
          "height": 204
        },
        "id": "ZbXiBbwNckFr",
        "outputId": "98216fec-2260-48c4-8187-0a59ff59eac3"
      },
      "source": [
        "file = 'drive/MyDrive/training.1600000.processed.noemoticon.csv'\n",
        "data = pd.read_csv(file,encoding='ISO-8859-1',names=[\"target\",\"id\",\"date\",\"flag\",\"user\",\"tweet\"])\n",
        "data.head()\n"
      ],
      "execution_count": null,
      "outputs": [
        {
          "output_type": "execute_result",
          "data": {
            "text/html": [
              "<div>\n",
              "<style scoped>\n",
              "    .dataframe tbody tr th:only-of-type {\n",
              "        vertical-align: middle;\n",
              "    }\n",
              "\n",
              "    .dataframe tbody tr th {\n",
              "        vertical-align: top;\n",
              "    }\n",
              "\n",
              "    .dataframe thead th {\n",
              "        text-align: right;\n",
              "    }\n",
              "</style>\n",
              "<table border=\"1\" class=\"dataframe\">\n",
              "  <thead>\n",
              "    <tr style=\"text-align: right;\">\n",
              "      <th></th>\n",
              "      <th>target</th>\n",
              "      <th>id</th>\n",
              "      <th>date</th>\n",
              "      <th>flag</th>\n",
              "      <th>user</th>\n",
              "      <th>tweet</th>\n",
              "    </tr>\n",
              "  </thead>\n",
              "  <tbody>\n",
              "    <tr>\n",
              "      <th>0</th>\n",
              "      <td>0</td>\n",
              "      <td>1467810369</td>\n",
              "      <td>Mon Apr 06 22:19:45 PDT 2009</td>\n",
              "      <td>NO_QUERY</td>\n",
              "      <td>_TheSpecialOne_</td>\n",
              "      <td>@switchfoot http://twitpic.com/2y1zl - Awww, t...</td>\n",
              "    </tr>\n",
              "    <tr>\n",
              "      <th>1</th>\n",
              "      <td>0</td>\n",
              "      <td>1467810672</td>\n",
              "      <td>Mon Apr 06 22:19:49 PDT 2009</td>\n",
              "      <td>NO_QUERY</td>\n",
              "      <td>scotthamilton</td>\n",
              "      <td>is upset that he can't update his Facebook by ...</td>\n",
              "    </tr>\n",
              "    <tr>\n",
              "      <th>2</th>\n",
              "      <td>0</td>\n",
              "      <td>1467810917</td>\n",
              "      <td>Mon Apr 06 22:19:53 PDT 2009</td>\n",
              "      <td>NO_QUERY</td>\n",
              "      <td>mattycus</td>\n",
              "      <td>@Kenichan I dived many times for the ball. Man...</td>\n",
              "    </tr>\n",
              "    <tr>\n",
              "      <th>3</th>\n",
              "      <td>0</td>\n",
              "      <td>1467811184</td>\n",
              "      <td>Mon Apr 06 22:19:57 PDT 2009</td>\n",
              "      <td>NO_QUERY</td>\n",
              "      <td>ElleCTF</td>\n",
              "      <td>my whole body feels itchy and like its on fire</td>\n",
              "    </tr>\n",
              "    <tr>\n",
              "      <th>4</th>\n",
              "      <td>0</td>\n",
              "      <td>1467811193</td>\n",
              "      <td>Mon Apr 06 22:19:57 PDT 2009</td>\n",
              "      <td>NO_QUERY</td>\n",
              "      <td>Karoli</td>\n",
              "      <td>@nationwideclass no, it's not behaving at all....</td>\n",
              "    </tr>\n",
              "  </tbody>\n",
              "</table>\n",
              "</div>"
            ],
            "text/plain": [
              "   target  ...                                              tweet\n",
              "0       0  ...  @switchfoot http://twitpic.com/2y1zl - Awww, t...\n",
              "1       0  ...  is upset that he can't update his Facebook by ...\n",
              "2       0  ...  @Kenichan I dived many times for the ball. Man...\n",
              "3       0  ...    my whole body feels itchy and like its on fire \n",
              "4       0  ...  @nationwideclass no, it's not behaving at all....\n",
              "\n",
              "[5 rows x 6 columns]"
            ]
          },
          "metadata": {
            "tags": []
          },
          "execution_count": 16
        }
      ]
    },
    {
      "cell_type": "code",
      "metadata": {
        "colab": {
          "base_uri": "https://localhost:8080/"
        },
        "id": "0tX5rQgxQswa",
        "outputId": "ce284863-07a2-4727-855a-a42a426cdb38"
      },
      "source": [
        "print(\"No of unique classes\")\n",
        "classes = np.unique(data['target'])\n",
        "print(classes)\n",
        "print()\n",
        "\n",
        "print(\"Sample with target 4(Positive)\")\n",
        "print(data.loc[data['target']==4,])\n",
        "print()\n",
        "\n",
        "print(\"Sample with target 0(Negative)\")\n",
        "print(data.loc[data['target']==0,])\n",
        "print()"
      ],
      "execution_count": null,
      "outputs": [
        {
          "output_type": "stream",
          "text": [
            "No of unique classes\n",
            "[0 4]\n",
            "\n",
            "Sample with target 4(Positive)\n",
            "         target  ...                                              tweet\n",
            "800000        4  ...       I LOVE @Health4UandPets u guys r the best!! \n",
            "800001        4  ...  im meeting up with one of my besties tonight! ...\n",
            "800002        4  ...  @DaRealSunisaKim Thanks for the Twitter add, S...\n",
            "800003        4  ...  Being sick can be really cheap when it hurts t...\n",
            "800004        4  ...    @LovesBrooklyn2 he has that effect on everyone \n",
            "...         ...  ...                                                ...\n",
            "1599995       4  ...  Just woke up. Having no school is the best fee...\n",
            "1599996       4  ...  TheWDB.com - Very cool to hear old Walt interv...\n",
            "1599997       4  ...  Are you ready for your MoJo Makeover? Ask me f...\n",
            "1599998       4  ...  Happy 38th Birthday to my boo of alll time!!! ...\n",
            "1599999       4  ...  happy #charitytuesday @theNSPCC @SparksCharity...\n",
            "\n",
            "[800000 rows x 6 columns]\n",
            "\n",
            "Sample with target 0(Negative)\n",
            "        target  ...                                              tweet\n",
            "0            0  ...  @switchfoot http://twitpic.com/2y1zl - Awww, t...\n",
            "1            0  ...  is upset that he can't update his Facebook by ...\n",
            "2            0  ...  @Kenichan I dived many times for the ball. Man...\n",
            "3            0  ...    my whole body feels itchy and like its on fire \n",
            "4            0  ...  @nationwideclass no, it's not behaving at all....\n",
            "...        ...  ...                                                ...\n",
            "799995       0  ...  Sick  Spending my day laying in bed listening ...\n",
            "799996       0  ...                                    Gmail is down? \n",
            "799997       0  ...                      rest in peace Farrah! So sad \n",
            "799998       0  ...  @Eric_Urbane Sounds like a rival is flagging y...\n",
            "799999       0  ...  has to resit exams over summer...  wishes he w...\n",
            "\n",
            "[800000 rows x 6 columns]\n",
            "\n"
          ],
          "name": "stdout"
        }
      ]
    },
    {
      "cell_type": "code",
      "metadata": {
        "colab": {
          "base_uri": "https://localhost:8080/",
          "height": 306
        },
        "id": "Yoi3egLmnNdn",
        "outputId": "367517cf-8b87-44d8-cfaf-506e5996943f"
      },
      "source": [
        "data['target'].value_counts().plot(kind='bar')\n",
        "plt.xlabel(\"Target emotion (0=Negative),(4=Positive)\", labelpad=14)\n",
        "plt.ylabel(\"Count of Tweets\", labelpad=14)\n",
        "plt.title(\"Count of Tweets by emotion\", y=1.02);"
      ],
      "execution_count": null,
      "outputs": [
        {
          "output_type": "display_data",
          "data": {
            "image/png": "[encoded data removed]",
            "text/plain": [
              "<Figure size 432x288 with 1 Axes>"
            ]
          },
          "metadata": {
            "tags": [],
            "needs_background": "light"
          }
        }
      ]
    },
    {
      "cell_type": "code",
      "metadata": {
        "colab": {
          "base_uri": "https://localhost:8080/"
        },
        "id": "YvScqHKkyl43",
        "outputId": "3837f10b-9193-4592-8cd5-a23576df1788"
      },
      "source": [
        "y = data.target\n",
        "X = data.tweet\n",
        "X_train, X_test, y_train, y_test = train_test_split(X, y,test_size=0.3,shuffle=True,random_state=1)\n",
        "X_val, X_test, y_val, y_test = train_test_split(X_test, y_test,test_size=0.5,shuffle=True,random_state=1) # split test data to validation and test\n",
        "\n",
        "print(\"\\nTraining Data and Shape:\\n\")\n",
        "print(X_train.head())\n",
        "print(X_train.shape)\n",
        "print(y_train.shape)\n",
        "\n",
        "print(\"\\nTest Data and Shape:\\n\")\n",
        "print(X_test.head())\n",
        "print(X_test.shape)\n",
        "print(y_test.shape)\n"
      ],
      "execution_count": null,
      "outputs": [
        {
          "output_type": "stream",
          "text": [
            "\n",
            "Training Data and Shape:\n",
            "\n",
            "1551782    break from computer...gonna watch tv while wri...\n",
            "527366     has to stop doing facebook quizzes and read hi...\n",
            "144215                              my stomach hurts so bad \n",
            "971368      had a gooood weekend  summer school in the am =/\n",
            "253655     RIP costco grill  thx for returning it though!...\n",
            "Name: tweet, dtype: object\n",
            "(1120000,)\n",
            "(1120000,)\n",
            "\n",
            "Test Data and Shape:\n",
            "\n",
            "437781                                    Pounding headache \n",
            "212491     @xXMCR_LadyXx   i dont even know what mikey ha...\n",
            "58442              MAD I'm awake!!! Can't fall back 2 sleep \n",
            "927867     I am trying to stop procrastinating so much bu...\n",
            "1087915    @TwiExaminer That is lucky  heh not every day ...\n",
            "Name: tweet, dtype: object\n",
            "(240000,)\n",
            "(240000,)\n"
          ],
          "name": "stdout"
        }
      ]
    },
    {
      "cell_type": "code",
      "metadata": {
        "id": "OdpXgtjg0MGS"
      },
      "source": [
        "embedding = \"https://tfhub.dev/google/nnlm-en-dim128-with-normalization/2\" # https://tfhub.dev/google/nnlm-en-dim50/2\n",
        "hub_layer = hub.KerasLayer(embedding, input_shape=[], \n",
        "                           dtype=tf.string, trainable=True)"
      ],
      "execution_count": null,
      "outputs": []
    },
    {
      "cell_type": "code",
      "metadata": {
        "colab": {
          "base_uri": "https://localhost:8080/"
        },
        "id": "CUfysfZF4Wji",
        "outputId": "00db48c2-ac9a-45ec-e162-09395e1cb42c"
      },
      "source": [
        "model = tf.keras.Sequential()\n",
        "model.add(hub_layer)\n",
        "model.add(tf.keras.layers.Dense(32, activation='relu',kernel_regularizer=tf.keras.regularizers.l2(l=0.001)))\n",
        "model.add(tf.keras.layers.Dropout(0.5))\n",
        "model.add(tf.keras.layers.Dense(16, activation='relu',kernel_regularizer=tf.keras.regularizers.l2(l=0.001)))\n",
        "model.add(tf.keras.layers.Dense(8, activation='relu',kernel_regularizer=tf.keras.regularizers.l2(l=0.001)))\n",
        "model.add(tf.keras.layers.Dense(1, activation='sigmoid'))\n",
        "\n",
        "model.summary()"
      ],
      "execution_count": null,
      "outputs": [
        {
          "output_type": "stream",
          "text": [
            "Model: \"sequential_1\"\n",
            "_________________________________________________________________\n",
            "Layer (type)                 Output Shape              Param #   \n",
            "=================================================================\n",
            "keras_layer_1 (KerasLayer)   (None, 128)               124642688 \n",
            "_________________________________________________________________\n",
            "dense_4 (Dense)              (None, 32)                4128      \n",
            "_________________________________________________________________\n",
            "dropout_1 (Dropout)          (None, 32)                0         \n",
            "_________________________________________________________________\n",
            "dense_5 (Dense)              (None, 16)                528       \n",
            "_________________________________________________________________\n",
            "dense_6 (Dense)              (None, 8)                 136       \n",
            "_________________________________________________________________\n",
            "dense_7 (Dense)              (None, 1)                 9         \n",
            "=================================================================\n",
            "Total params: 124,647,489\n",
            "Trainable params: 124,647,489\n",
            "Non-trainable params: 0\n",
            "_________________________________________________________________\n"
          ],
          "name": "stdout"
        }
      ]
    },
    {
      "cell_type": "code",
      "metadata": {
        "id": "mpEyK9k04XXd"
      },
      "source": [
        "opt = keras.optimizers.RMSprop(learning_rate=0.001)\n",
        "model.compile(optimizer=opt,\n",
        "              loss=tf.keras.losses.BinaryCrossentropy(from_logits=True),\n",
        "              metrics=['accuracy'])"
      ],
      "execution_count": null,
      "outputs": []
    },
    {
      "cell_type": "code",
      "metadata": {
        "colab": {
          "base_uri": "https://localhost:8080/"
        },
        "id": "1AF0RRZW4gQl",
        "outputId": "11bd83ba-b6d5-4038-cdc3-231f28279f15"
      },
      "source": [
        "train_data = (X_train,y_train)\n",
        "validation_data = (X_val,y_val)\n",
        "\n",
        "y_train_norm = y_train/4\n",
        "y_val_norm = y_val/4\n",
        "\n",
        "history = model.fit(X_train,y_train_norm,\n",
        "                    epochs=10,\n",
        "                    verbose=1,\n",
        "                    batch_size=512,\n",
        "                    validation_data = (X_val,y_val_norm),\n",
        "                    shuffle=True)"
      ],
      "execution_count": null,
      "outputs": [
        {
          "output_type": "stream",
          "text": [
            "Epoch 1/10\n",
            "2188/2188 [==============================] - 59s 27ms/step - loss: 0.5264 - accuracy: 0.7639 - val_loss: 0.4440 - val_accuracy: 0.7993\n",
            "Epoch 2/10\n",
            "2188/2188 [==============================] - 55s 25ms/step - loss: 0.4417 - accuracy: 0.8036 - val_loss: 0.4413 - val_accuracy: 0.8003\n",
            "Epoch 3/10\n",
            "2188/2188 [==============================] - 56s 25ms/step - loss: 0.4360 - accuracy: 0.8061 - val_loss: 0.4396 - val_accuracy: 0.8009\n",
            "Epoch 4/10\n",
            "2188/2188 [==============================] - 55s 25ms/step - loss: 0.4318 - accuracy: 0.8090 - val_loss: 0.4381 - val_accuracy: 0.8024\n",
            "Epoch 5/10\n",
            "2188/2188 [==============================] - 55s 25ms/step - loss: 0.4292 - accuracy: 0.8108 - val_loss: 0.4379 - val_accuracy: 0.8028\n",
            "Epoch 6/10\n",
            "2188/2188 [==============================] - 56s 26ms/step - loss: 0.4270 - accuracy: 0.8121 - val_loss: 0.4377 - val_accuracy: 0.8021\n",
            "Epoch 7/10\n",
            "2188/2188 [==============================] - 55s 25ms/step - loss: 0.4236 - accuracy: 0.8151 - val_loss: 0.4379 - val_accuracy: 0.8041\n",
            "Epoch 8/10\n",
            "2188/2188 [==============================] - 55s 25ms/step - loss: 0.4207 - accuracy: 0.8174 - val_loss: 0.4374 - val_accuracy: 0.8038\n",
            "Epoch 9/10\n",
            "2188/2188 [==============================] - 55s 25ms/step - loss: 0.4190 - accuracy: 0.8185 - val_loss: 0.4370 - val_accuracy: 0.8043\n",
            "Epoch 10/10\n",
            "2188/2188 [==============================] - 55s 25ms/step - loss: 0.4173 - accuracy: 0.8197 - val_loss: 0.4386 - val_accuracy: 0.8031\n"
          ],
          "name": "stdout"
        }
      ]
    },
    {
      "cell_type": "code",
      "metadata": {
        "colab": {
          "base_uri": "https://localhost:8080/"
        },
        "id": "RH7fWV7MKkIM",
        "outputId": "dd044664-29d8-4133-b62b-537a4f3d9213"
      },
      "source": [
        "#Printing Model Metrics\n",
        "\n",
        "print('Final training loss \\t', history.history['loss'][-1])\n",
        "print('Final training accuracy ', history.history['accuracy'][-1])"
      ],
      "execution_count": null,
      "outputs": [
        {
          "output_type": "stream",
          "text": [
            "Final training loss \t 0.41854894161224365\n",
            "Final training accuracy  0.8186383843421936\n"
          ],
          "name": "stdout"
        }
      ]
    },
    {
      "cell_type": "code",
      "metadata": {
        "id": "uTTs9J1rwNbn",
        "colab": {
          "base_uri": "https://localhost:8080/",
          "height": 295
        },
        "outputId": "692e8a94-bc80-4e08-95e8-0680c0869979"
      },
      "source": [
        "# Plot training & validation accuracy values\n",
        "plt.plot(history.history['accuracy'])\n",
        "plt.plot(history.history['val_accuracy'])\n",
        "plt.title('Model accuracy')\n",
        "plt.ylabel('Accuracy')\n",
        "plt.xlabel('Epoch')\n",
        "plt.legend(['Train', 'Test'], loc='upper left')\n",
        "plt.show()"
      ],
      "execution_count": null,
      "outputs": [
        {
          "output_type": "display_data",
          "data": {
            "image/png": "[encoded data removed]",
            "text/plain": [
              "<Figure size 432x288 with 1 Axes>"
            ]
          },
          "metadata": {
            "tags": [],
            "needs_background": "light"
          }
        }
      ]
    },
    {
      "cell_type": "code",
      "metadata": {
        "id": "cG3gDMggTVvN",
        "colab": {
          "base_uri": "https://localhost:8080/",
          "height": 295
        },
        "outputId": "f67fe172-2c58-4b0d-cba3-d5ef82370c3d"
      },
      "source": [
        "# Plot validation and training loss\n",
        "plt.plot(history.history['loss'])\n",
        "plt.plot(history.history['val_loss'])\n",
        "plt.title('Model loss')\n",
        "plt.ylabel('Loss')\n",
        "plt.xlabel('Epoch')\n",
        "plt.legend(['Train', 'Test'], loc='upper left')\n",
        "plt.show()"
      ],
      "execution_count": null,
      "outputs": [
        {
          "output_type": "display_data",
          "data": {
            "image/png": "[encoded data removed]",
            "text/plain": [
              "<Figure size 432x288 with 1 Axes>"
            ]
          },
          "metadata": {
            "tags": [],
            "needs_background": "light"
          }
        }
      ]
    },
    {
      "cell_type": "code",
      "metadata": {
        "id": "TJcWXtmayXaV",
        "colab": {
          "base_uri": "https://localhost:8080/"
        },
        "outputId": "fa88c52c-e98e-49b0-8561-8bcf9857741c"
      },
      "source": [
        "# Evaluate the Model\n",
        "y_test_norm= y_test/4\n",
        "\n",
        "results = model.evaluate(X_test,y_test_norm, verbose=1)\n",
        "\n",
        "for name, value in zip(model.metrics_names, results):\n",
        "  print(\"Model Evaluation %s: %.3f\" % (name, value))\n",
        "\n",
        "Y_prediction = (model.predict(X_test) > 0.5).astype(\"int32\")\n",
        "\n",
        "Y_true = y_test/4\n",
        "\n",
        "# Classification Report\n",
        "print()\n",
        "print('Classification Report:-')\n",
        "from sklearn.metrics import classification_report \n",
        "print(classification_report(Y_true, Y_prediction))"
      ],
      "execution_count": null,
      "outputs": [
        {
          "output_type": "stream",
          "text": [
            "7500/7500 [==============================] - 25s 3ms/step - loss: 0.4392 - accuracy: 0.8024\n",
            "Model Evaluation loss: 0.439\n",
            "Model Evaluation accuracy: 0.802\n",
            "\n",
            "Classification Report:-\n",
            "              precision    recall  f1-score   support\n",
            "\n",
            "         0.0       0.80      0.80      0.80    119564\n",
            "         1.0       0.80      0.81      0.80    120436\n",
            "\n",
            "    accuracy                           0.80    240000\n",
            "   macro avg       0.80      0.80      0.80    240000\n",
            "weighted avg       0.80      0.80      0.80    240000\n",
            "\n"
          ],
          "name": "stdout"
        }
      ]
    },
    {
      "cell_type": "markdown",
      "metadata": {
        "id": "4sYv0dVBTNNo"
      },
      "source": [
        "**Hyperparameter Tuning - 1**"
      ]
    },
    {
      "cell_type": "markdown",
      "metadata": {
        "id": "uFgJsSfbS3Gk"
      },
      "source": [
        "*Compile,Build and Evaluate model with changing the position and value of dropout layer*"
      ]
    },
    {
      "cell_type": "code",
      "metadata": {
        "colab": {
          "base_uri": "https://localhost:8080/",
          "height": 1000
        },
        "id": "aFus-3G434jj",
        "outputId": "2ac216d2-e553-4a82-8917-725e1e67cfa8"
      },
      "source": [
        "tf.keras.backend.clear_session()\n",
        "model_dropout = tf.keras.Sequential()\n",
        "model_dropout.add(hub_layer)\n",
        "model_dropout.add(tf.keras.layers.Dense(32, activation='relu',kernel_regularizer=tf.keras.regularizers.l2(l=0.001)))\n",
        "model_dropout.add(tf.keras.layers.Dense(16, activation='relu',kernel_regularizer=tf.keras.regularizers.l2(l=0.001)))\n",
        "model_dropout.add(tf.keras.layers.Dropout(0.3))\n",
        "model_dropout.add(tf.keras.layers.Dense(8, activation='relu',kernel_regularizer=tf.keras.regularizers.l2(l=0.001)))\n",
        "model_dropout.add(tf.keras.layers.Dense(1, activation='sigmoid'))\n",
        "\n",
        "model_dropout.summary()\n",
        "\n",
        "model_dropout.compile(optimizer=opt,\n",
        "              loss=tf.keras.losses.BinaryCrossentropy(from_logits=True),\n",
        "              metrics=['accuracy'])\n",
        "\n",
        "history = model_dropout.fit(X_train,y_train_norm,\n",
        "                    epochs=10,\n",
        "                    verbose=1,\n",
        "                    batch_size=512,\n",
        "                    validation_data = (X_val,y_val_norm),\n",
        "                    shuffle=True)\n",
        "\n",
        "#Printing Model Metrics\n",
        "\n",
        "print('Final training loss \\t', history.history['loss'][-1])\n",
        "print('Final training accuracy ', history.history['accuracy'][-1])\n",
        "\n",
        "# Plot training & validation accuracy values\n",
        "print('Model Accuracy')\n",
        "plt.plot(history.history['accuracy'])\n",
        "plt.plot(history.history['val_accuracy'])\n",
        "plt.title('Model accuracy')\n",
        "plt.ylabel('Accuracy')\n",
        "plt.xlabel('Epoch')\n",
        "plt.legend(['Train', 'Test'], loc='upper left')\n",
        "plt.show()\n",
        "\n",
        "# Plot validation and training loss\n",
        "plt.plot(history.history['loss'])\n",
        "plt.plot(history.history['val_loss'])\n",
        "plt.title('Model loss')\n",
        "plt.ylabel('Loss')\n",
        "plt.xlabel('Epoch')\n",
        "plt.legend(['Train', 'Test'], loc='upper left')\n",
        "plt.show()\n",
        "\n",
        "results = model.evaluate(X_test,y_test_norm, verbose=1)\n",
        "\n",
        "for name, value in zip(model.metrics_names, results):\n",
        "  print(\"Model Evaluation %s: %.3f\" % (name, value))\n",
        "\n",
        "Y_prediction = (model.predict(X_test) > 0.5).astype(\"int32\")\n",
        "\n",
        "Y_true = y_test/4\n",
        "\n",
        "# Classification Report\n",
        "print()\n",
        "print('Classification Report:-')\n",
        "from sklearn.metrics import classification_report \n",
        "print(classification_report(Y_true, Y_prediction))\n"
      ],
      "execution_count": null,
      "outputs": [
        {
          "output_type": "stream",
          "text": [
            "Model: \"sequential\"\n",
            "_________________________________________________________________\n",
            "Layer (type)                 Output Shape              Param #   \n",
            "=================================================================\n",
            "keras_layer_1 (KerasLayer)   (None, 128)               124642688 \n",
            "_________________________________________________________________\n",
            "dense (Dense)                (None, 32)                4128      \n",
            "_________________________________________________________________\n",
            "dense_1 (Dense)              (None, 16)                528       \n",
            "_________________________________________________________________\n",
            "dropout (Dropout)            (None, 16)                0         \n",
            "_________________________________________________________________\n",
            "dense_2 (Dense)              (None, 8)                 136       \n",
            "_________________________________________________________________\n",
            "dense_3 (Dense)              (None, 1)                 9         \n",
            "=================================================================\n",
            "Total params: 124,647,489\n",
            "Trainable params: 124,647,489\n",
            "Non-trainable params: 0\n",
            "_________________________________________________________________\n",
            "Epoch 1/10\n",
            "2188/2188 [==============================] - 56s 25ms/step - loss: 0.4586 - accuracy: 0.8150 - val_loss: 0.4410 - val_accuracy: 0.8040\n",
            "Epoch 2/10\n",
            "2188/2188 [==============================] - 54s 25ms/step - loss: 0.4161 - accuracy: 0.8240 - val_loss: 0.4388 - val_accuracy: 0.8035\n",
            "Epoch 3/10\n",
            "2188/2188 [==============================] - 55s 25ms/step - loss: 0.4101 - accuracy: 0.8261 - val_loss: 0.4388 - val_accuracy: 0.8039\n",
            "Epoch 4/10\n",
            "2188/2188 [==============================] - 55s 25ms/step - loss: 0.4076 - accuracy: 0.8275 - val_loss: 0.4378 - val_accuracy: 0.8035\n",
            "Epoch 5/10\n",
            "2188/2188 [==============================] - 55s 25ms/step - loss: 0.4048 - accuracy: 0.8292 - val_loss: 0.4377 - val_accuracy: 0.8034\n",
            "Epoch 6/10\n",
            "2188/2188 [==============================] - 55s 25ms/step - loss: 0.4011 - accuracy: 0.8313 - val_loss: 0.4519 - val_accuracy: 0.7956\n",
            "Epoch 7/10\n",
            "2188/2188 [==============================] - 55s 25ms/step - loss: 0.3991 - accuracy: 0.8327 - val_loss: 0.4384 - val_accuracy: 0.8036\n",
            "Epoch 8/10\n",
            "2188/2188 [==============================] - 55s 25ms/step - loss: 0.3951 - accuracy: 0.8351 - val_loss: 0.4398 - val_accuracy: 0.8037\n",
            "Epoch 9/10\n",
            "2188/2188 [==============================] - 55s 25ms/step - loss: 0.3912 - accuracy: 0.8379 - val_loss: 0.4431 - val_accuracy: 0.8011\n",
            "Epoch 10/10\n",
            "2188/2188 [==============================] - 55s 25ms/step - loss: 0.3891 - accuracy: 0.8391 - val_loss: 0.4383 - val_accuracy: 0.8029\n",
            "Final training loss \t 0.3911702036857605\n",
            "Final training accuracy  0.8377875089645386\n",
            "Model Accuracy\n"
          ],
          "name": "stdout"
        },
        {
          "output_type": "display_data",
          "data": {
            "image/png": "[encoded data removed]",
            "text/plain": [
              "<Figure size 432x288 with 1 Axes>"
            ]
          },
          "metadata": {
            "tags": [],
            "needs_background": "light"
          }
        },
        {
          "output_type": "display_data",
          "data": {
            "image/png": "[encoded data removed]",
            "text/plain": [
              "<Figure size 432x288 with 1 Axes>"
            ]
          },
          "metadata": {
            "tags": [],
            "needs_background": "light"
          }
        },
        {
          "output_type": "stream",
          "text": [
            "7500/7500 [==============================] - 26s 3ms/step - loss: 0.5404 - accuracy: 0.7872\n",
            "Model Evaluation loss: 0.540\n",
            "Model Evaluation accuracy: 0.787\n",
            "\n",
            "Classification Report:-\n",
            "              precision    recall  f1-score   support\n",
            "\n",
            "         0.0       0.84      0.71      0.77    119564\n",
            "         1.0       0.75      0.86      0.80    120436\n",
            "\n",
            "    accuracy                           0.79    240000\n",
            "   macro avg       0.79      0.79      0.79    240000\n",
            "weighted avg       0.79      0.79      0.79    240000\n",
            "\n"
          ],
          "name": "stdout"
        }
      ]
    },
    {
      "cell_type": "markdown",
      "metadata": {
        "id": "2OSBXLqsWkSo"
      },
      "source": [
        "**Hyperparameter Tuning - 2**"
      ]
    },
    {
      "cell_type": "markdown",
      "metadata": {
        "id": "sEZ4qrwFWI8y"
      },
      "source": [
        "*Compile,Build and Evaluate model with changing the value of Batch Size*\n"
      ]
    },
    {
      "cell_type": "code",
      "metadata": {
        "colab": {
          "base_uri": "https://localhost:8080/",
          "height": 1000
        },
        "id": "65prx8MmWcL0",
        "outputId": "3144aa42-f218-4097-b386-dbc1c1cbb84a"
      },
      "source": [
        "tf.keras.backend.clear_session()\n",
        "model_batch = tf.keras.Sequential()\n",
        "model_batch.add(hub_layer)\n",
        "model_batch.add(tf.keras.layers.Dense(32, activation='relu',kernel_regularizer=tf.keras.regularizers.l2(l=0.001)))\n",
        "model_batch.add(tf.keras.layers.Dense(16, activation='relu',kernel_regularizer=tf.keras.regularizers.l2(l=0.001)))\n",
        "model_batch.add(tf.keras.layers.Dropout(0.3))\n",
        "model_batch.add(tf.keras.layers.Dense(8, activation='relu',kernel_regularizer=tf.keras.regularizers.l2(l=0.001)))\n",
        "model_batch.add(tf.keras.layers.Dense(1, activation='sigmoid'))\n",
        "\n",
        "model_batch.summary()\n",
        "\n",
        "model_batch.compile(optimizer=opt,\n",
        "              loss=tf.keras.losses.BinaryCrossentropy(from_logits=True),\n",
        "              metrics=['accuracy'])\n",
        "\n",
        "history = model_batch.fit(X_train,y_train_norm,\n",
        "                    epochs=10,\n",
        "                    verbose=1,\n",
        "                    batch_size=256,\n",
        "                    validation_data = (X_val,y_val_norm),\n",
        "                    shuffle=True)\n",
        "\n",
        "#Printing Model Metrics\n",
        "\n",
        "print('Final training loss \\t', history.history['loss'][-1])\n",
        "print('Final training accuracy ', history.history['accuracy'][-1])\n",
        "\n",
        "# Plot training & validation accuracy values\n",
        "print('Model Accuracy')\n",
        "plt.plot(history.history['accuracy'])\n",
        "plt.plot(history.history['val_accuracy'])\n",
        "plt.title('Model accuracy')\n",
        "plt.ylabel('Accuracy')\n",
        "plt.xlabel('Epoch')\n",
        "plt.legend(['Train', 'Test'], loc='upper left')\n",
        "plt.show()\n",
        "\n",
        "# Plot validation and training loss\n",
        "plt.plot(history.history['loss'])\n",
        "plt.plot(history.history['val_loss'])\n",
        "plt.title('Model loss')\n",
        "plt.ylabel('Loss')\n",
        "plt.xlabel('Epoch')\n",
        "plt.legend(['Train', 'Test'], loc='upper left')\n",
        "plt.show()\n",
        "\n",
        "results = model.evaluate(X_test,y_test_norm, verbose=1)\n",
        "\n",
        "for name, value in zip(model.metrics_names, results):\n",
        "  print(\"Model Evaluation %s: %.3f\" % (name, value))\n",
        "\n",
        "Y_prediction = (model.predict(X_test) > 0.5).astype(\"int32\")\n",
        "\n",
        "Y_true = y_test/4\n",
        "\n",
        "# Classification Report\n",
        "print()\n",
        "print('Classification Report:-')\n",
        "from sklearn.metrics import classification_report \n",
        "print(classification_report(Y_true, Y_prediction))"
      ],
      "execution_count": null,
      "outputs": [
        {
          "output_type": "stream",
          "text": [
            "Model: \"sequential\"\n",
            "_________________________________________________________________\n",
            "Layer (type)                 Output Shape              Param #   \n",
            "=================================================================\n",
            "keras_layer_1 (KerasLayer)   (None, 128)               124642688 \n",
            "_________________________________________________________________\n",
            "dense (Dense)                (None, 32)                4128      \n",
            "_________________________________________________________________\n",
            "dense_1 (Dense)              (None, 16)                528       \n",
            "_________________________________________________________________\n",
            "dropout (Dropout)            (None, 16)                0         \n",
            "_________________________________________________________________\n",
            "dense_2 (Dense)              (None, 8)                 136       \n",
            "_________________________________________________________________\n",
            "dense_3 (Dense)              (None, 1)                 9         \n",
            "=================================================================\n",
            "Total params: 124,647,489\n",
            "Trainable params: 124,647,489\n",
            "Non-trainable params: 0\n",
            "_________________________________________________________________\n",
            "Epoch 1/10\n",
            "4375/4375 [==============================] - 104s 24ms/step - loss: 0.4477 - accuracy: 0.8207 - val_loss: 0.4506 - val_accuracy: 0.7952\n",
            "Epoch 2/10\n",
            "4375/4375 [==============================] - 102s 23ms/step - loss: 0.3976 - accuracy: 0.8378 - val_loss: 0.4469 - val_accuracy: 0.8023\n",
            "Epoch 3/10\n",
            "4375/4375 [==============================] - 102s 23ms/step - loss: 0.3932 - accuracy: 0.8394 - val_loss: 0.4422 - val_accuracy: 0.7998\n",
            "Epoch 4/10\n",
            "4375/4375 [==============================] - 102s 23ms/step - loss: 0.3918 - accuracy: 0.8393 - val_loss: 0.4459 - val_accuracy: 0.7978\n",
            "Epoch 5/10\n",
            "4375/4375 [==============================] - 102s 23ms/step - loss: 0.3888 - accuracy: 0.8400 - val_loss: 0.4514 - val_accuracy: 0.7972\n",
            "Epoch 6/10\n",
            "4375/4375 [==============================] - 101s 23ms/step - loss: 0.3876 - accuracy: 0.8404 - val_loss: 0.4392 - val_accuracy: 0.8046\n",
            "Epoch 7/10\n",
            "4375/4375 [==============================] - 101s 23ms/step - loss: 0.3865 - accuracy: 0.8410 - val_loss: 0.4441 - val_accuracy: 0.8021\n",
            "Epoch 8/10\n",
            "4375/4375 [==============================] - 101s 23ms/step - loss: 0.3852 - accuracy: 0.8417 - val_loss: 0.4423 - val_accuracy: 0.8037\n",
            "Epoch 9/10\n",
            "4375/4375 [==============================] - 101s 23ms/step - loss: 0.3821 - accuracy: 0.8428 - val_loss: 0.4495 - val_accuracy: 0.8029\n",
            "Epoch 10/10\n",
            "4375/4375 [==============================] - 101s 23ms/step - loss: 0.3811 - accuracy: 0.8436 - val_loss: 0.4454 - val_accuracy: 0.8016\n",
            "Final training loss \t 0.38359394669532776\n",
            "Final training accuracy  0.8418553471565247\n",
            "Model Accuracy\n"
          ],
          "name": "stdout"
        },
        {
          "output_type": "display_data",
          "data": {
            "image/png": "[encoded data removed]",
            "text/plain": [
              "<Figure size 432x288 with 1 Axes>"
            ]
          },
          "metadata": {
            "tags": [],
            "needs_background": "light"
          }
        },
        {
          "output_type": "display_data",
          "data": {
            "image/png": "[encoded data removed]",
            "text/plain": [
              "<Figure size 432x288 with 1 Axes>"
            ]
          },
          "metadata": {
            "tags": [],
            "needs_background": "light"
          }
        },
        {
          "output_type": "stream",
          "text": [
            "7500/7500 [==============================] - 25s 3ms/step - loss: 0.6220 - accuracy: 0.7796\n",
            "Model Evaluation loss: 0.622\n",
            "Model Evaluation accuracy: 0.780\n",
            "\n",
            "Classification Report:-\n",
            "              precision    recall  f1-score   support\n",
            "\n",
            "         0.0       0.84      0.69      0.76    119564\n",
            "         1.0       0.74      0.87      0.80    120436\n",
            "\n",
            "    accuracy                           0.78    240000\n",
            "   macro avg       0.79      0.78      0.78    240000\n",
            "weighted avg       0.79      0.78      0.78    240000\n",
            "\n"
          ],
          "name": "stdout"
        }
      ]
    },
    {
      "cell_type": "markdown",
      "metadata": {
        "id": "48OxPHZPn8bI"
      },
      "source": [
        "**Train Valid and Test Accuracy of each model in percentage:**                      \n",
        "Model:-  **82,**         **80,**     **80**\n",
        "\n",
        "Model(Change dropout layer):-  **83,**         **80,**     **78**\n",
        "\n",
        "Model(change batch size):-          **84,**         **80,**     **78**\n",
        "\n",
        "\n",
        "\n",
        "\n",
        "\n",
        "\n"
      ]
    }
  ]
}